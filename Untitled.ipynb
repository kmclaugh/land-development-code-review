{
 "cells": [
  {
   "cell_type": "code",
   "execution_count": 6,
   "metadata": {},
   "outputs": [],
   "source": [
    "import fitz\n",
    "from df2gspread import df2gspread as d2g\n",
    "import pandas as pd\n",
    "import gspread\n",
    "from oauth2client.service_account import ServiceAccountCredentials\n",
    "from pandas.io.json import json_normalize\n",
    "test=True"
   ]
  },
  {
   "cell_type": "code",
   "execution_count": 7,
   "metadata": {},
   "outputs": [],
   "source": [
    "### READ IN PDF\n",
    "doc = fitz.open(\"Draft3-Full-annotated.pdf\")"
   ]
  },
  {
   "cell_type": "code",
   "execution_count": 8,
   "metadata": {},
   "outputs": [],
   "source": [
    "class Annotation:\n",
    "    def __init__(self, page_number, index, text, comment, code, areas):\n",
    "        self.page_number = page_number\n",
    "        self.index = index\n",
    "        self.text = text\n",
    "        self.comment = comment\n",
    "        self.code = code\n",
    "        self.areas = areas\n",
    "    \n",
    "    def __repr__(self):\n",
    "        return \"{} - {}\".format(self.page_number, self.index)"
   ]
  },
  {
   "cell_type": "code",
   "execution_count": 9,
   "metadata": {},
   "outputs": [
    {
     "name": "stdout",
     "output_type": "stream",
     "text": [
      "233 - 1\n",
      "here\n",
      "page 232 of Draft3-Full-annotated.pdf\n",
      "[Rect(153.29989624023438, 388.762451171875, 252.2020263671875, 401.69970703125)]\n"
     ]
    }
   ],
   "source": [
    "def add_annotation(annotation, doc):\n",
    "    \"\"\"\n",
    "    Adds the given annotation to the PDF\n",
    "    \"\"\"\n",
    "    print \"here\"\n",
    "    page = doc[annotation.page_number-1]\n",
    "    print page\n",
    "    text_instances = page.searchFor(annotation.text)\n",
    "\n",
    "    ## Add the highlight\n",
    "    print text_instances\n",
    "    for inst in text_instances:\n",
    "        highlight = page.addHighlightAnnot(inst)\n",
    "        \n",
    "    footnote_loc = fitz.Rect(inst.x1,inst.y0-2,inst.x1+10,inst.y1-8)\n",
    "    footnote = page.addFreetextAnnot(footnote_loc, str(annotation.index), fontsize=8)\n",
    "    link = {'kind': 2, \n",
    "            'from': fitz.Rect(footnote_loc.x0-1, footnote_loc.y0-1, footnote_loc.x1+1, footnote_loc.y1+1),\n",
    "            'type': 'uri',\n",
    "            'uri': 'https://pypi.python.org/pypi?:action=display&name=PyMuPDF&version=1.10.0'}\n",
    "    page.insertLink(link)\n",
    "    comment = page.addTextAnnot(\n",
    "        (10,footnote_loc.y0), \n",
    "        \"{}. {}\".format(annotation.index, annotation.comment), \n",
    "        icon=\"Comment\")\n",
    "\n",
    "if test:\n",
    "    annotation = Annotation(page_number=233, index=1, text=\"Site Plan Dedication.\", \n",
    "                          comment=\"Would this apply to site-plan lites?\", \n",
    "                          code=\"Error\", \n",
    "                          areas=[\"Missing Middle\", \"Parkland\"])\n",
    "    print annotation\n",
    "    add_annotation(annotation, doc)\n",
    "    \n"
   ]
  },
  {
   "cell_type": "code",
   "execution_count": 11,
   "metadata": {},
   "outputs": [
    {
     "data": {
      "text/plain": [
       "True"
      ]
     },
     "execution_count": 11,
     "metadata": {},
     "output_type": "execute_result"
    }
   ],
   "source": [
    "doc.can_save_incrementally()"
   ]
  },
  {
   "cell_type": "code",
   "execution_count": 12,
   "metadata": {},
   "outputs": [],
   "source": [
    "doc.save(doc.name, incremental=True, encryption=0)"
   ]
  },
  {
   "cell_type": "code",
   "execution_count": null,
   "metadata": {},
   "outputs": [],
   "source": [
    "## Connect to Google Sheet\n",
    "## Connect to our service account\n",
    "scope = ['https://spreadsheets.google.com/feeds']\n",
    "credentials = ServiceAccountCredentials.from_json_keyfile_name('./Jupyter_and_Google_Sheets.json', scope)\n",
    "gc = gspread.authorize(credentials)\n",
    "spreadsheet_key = '1IGMIjolRXo8zhPdFYkoma7BGTgZRekOZZnlFDKBY7Hs'"
   ]
  }
 ],
 "metadata": {
  "anaconda-cloud": {},
  "kernelspec": {
   "display_name": "Python [conda env:DEF]",
   "language": "python",
   "name": "conda-env-DEF-py"
  },
  "language_info": {
   "codemirror_mode": {
    "name": "ipython",
    "version": 2
   },
   "file_extension": ".py",
   "mimetype": "text/x-python",
   "name": "python",
   "nbconvert_exporter": "python",
   "pygments_lexer": "ipython2",
   "version": "2.7.15"
  }
 },
 "nbformat": 4,
 "nbformat_minor": 2
}
